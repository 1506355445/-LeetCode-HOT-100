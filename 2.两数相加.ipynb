{
 "cells": [
  {
   "cell_type": "markdown",
   "id": "3e6f2871",
   "metadata": {},
   "source": [
    "# 两数相加"
   ]
  },
  {
   "cell_type": "markdown",
   "id": "d3671e06",
   "metadata": {},
   "source": [
    "### 示例1：\n",
    "### 输入：l1 = [2,4,3], l2 = [5,6,4]\n",
    "### 输出：[7,0,8]\n",
    "### 解释：342 + 465 = 807.\n",
    "\n",
    "### 示例2：\n",
    "\n",
    "### 输入：l1 = [0], l2 = [0]\n",
    "### 输出：[0]\n",
    "\n",
    "### 示例3：\n",
    "\n",
    "### 输入：l1 = [9,9,9,9,9,9,9], l2 = [9,9,9,9]\n",
    "### 输出：[8,9,9,9,0,0,0,1]"
   ]
  },
  {
   "cell_type": "markdown",
   "id": "17847f03",
   "metadata": {},
   "source": [
    "## 方法一 模拟：\n",
    " #### 依次遍历L1跟L2链表相加，相当于是个位十位百位依次相加\n",
    " #### 我们将每位数相加后除以10的余数记为val\n",
    " #### 我们将每位数相加后除以10的商记为tmp"
   ]
  },
  {
   "cell_type": "code",
   "execution_count": 1,
   "id": "9a607962",
   "metadata": {},
   "outputs": [],
   "source": [
    "from typing import Optional"
   ]
  },
  {
   "cell_type": "code",
   "execution_count": 2,
   "id": "29ae6480",
   "metadata": {},
   "outputs": [],
   "source": [
    "class ListNode(object):#节点信息\n",
    "    def __init__(self, val=0, next=None):\n",
    "        self.val = val\n",
    "        self.next = next\n",
    "    def has_value(self,value):\n",
    "        if self.val==value:\n",
    "            return True\n",
    "        else:\n",
    "            return False"
   ]
  },
  {
   "cell_type": "code",
   "execution_count": 3,
   "id": "fc28c1c5",
   "metadata": {},
   "outputs": [],
   "source": [
    "class SingleLinkedList():\n",
    "    def __init__(self):\n",
    "        self.head=None\n",
    "        self.tail=None\n",
    "        return\n",
    "    def add_list_item(self,item):#添加节点\n",
    "        if not isinstance(item,ListNode):\n",
    "            item=ListNode(item)\n",
    "        if self.head is None:\n",
    "            self.head=item\n",
    "        else:\n",
    "            self.tail.next=item\n",
    "        self.tail=item\n",
    "        return\n",
    "    def list_length(self):#链表长度\n",
    "        count=0\n",
    "        current_node=self.head\n",
    "        while current_node is not None:\n",
    "            count=count+1\n",
    "            current_node=current_node.next\n",
    "        return count\n",
    "    def output_list(self):#输出节点值\n",
    "        current_node=self.head\n",
    "        while current_node is not None:\n",
    "            print(current_node.val)\n",
    "            current_node=current_node.next\n",
    "        return\n",
    "    "
   ]
  },
  {
   "cell_type": "code",
   "execution_count": 4,
   "id": "228b5e3d",
   "metadata": {},
   "outputs": [],
   "source": [
    "class Solution:\n",
    "    def addTwoNumbers(self, l1: Optional[ListNode], l2: Optional[ListNode]) -> Optional[ListNode]:\n",
    "        # 初始化链表\n",
    "        head = tree = ListNode()\n",
    "        result=SingleLinkedList()\n",
    "        val = tmp = 0\n",
    "        # 当三者有一个不为空时继续循环\n",
    "        a1=l1.head\n",
    "        a2=l2.head\n",
    "        while tmp or a1 or a2:\n",
    "            val = tmp\n",
    "            if a1:\n",
    "                val = a1.val + val\n",
    "                a1 = a1.next\n",
    "            if a2:\n",
    "                val = a2.val + val\n",
    "                a2 = a2.next\n",
    "\n",
    "            tmp = val // 10\n",
    "            val = val % 10\n",
    "            # 添加到链表中\n",
    "            result.add_list_item(ListNode(val))\n",
    "        return result"
   ]
  },
  {
   "cell_type": "code",
   "execution_count": 5,
   "id": "8e8086e6",
   "metadata": {},
   "outputs": [
    {
     "name": "stdout",
     "output_type": "stream",
     "text": [
      "[2,4,3]\n",
      "[5,6,4]\n"
     ]
    }
   ],
   "source": [
    "l1=SingleLinkedList()\n",
    "l2=SingleLinkedList()\n",
    "for current_item in eval(input()):\n",
    "    l1.add_list_item(current_item)\n",
    "for current_item in eval(input()):\n",
    "    l2.add_list_item(current_item)"
   ]
  },
  {
   "cell_type": "code",
   "execution_count": 6,
   "id": "87cad3a4",
   "metadata": {},
   "outputs": [],
   "source": [
    "solution=Solution()\n",
    "result=solution.addTwoNumbers(l1,l2)"
   ]
  },
  {
   "cell_type": "code",
   "execution_count": 7,
   "id": "b6173429",
   "metadata": {},
   "outputs": [],
   "source": [
    "result_list=[]"
   ]
  },
  {
   "cell_type": "code",
   "execution_count": 8,
   "id": "c059c19e",
   "metadata": {},
   "outputs": [],
   "source": [
    "node=result.head\n",
    "while node:\n",
    "    result_list.append(node.val)\n",
    "    node=node.next"
   ]
  },
  {
   "cell_type": "code",
   "execution_count": 9,
   "id": "b246e04c",
   "metadata": {},
   "outputs": [
    {
     "data": {
      "text/plain": [
       "[7, 0, 8]"
      ]
     },
     "execution_count": 9,
     "metadata": {},
     "output_type": "execute_result"
    }
   ],
   "source": [
    "result_list"
   ]
  }
 ],
 "metadata": {
  "kernelspec": {
   "display_name": "Python 3",
   "language": "python",
   "name": "python3"
  },
  "language_info": {
   "codemirror_mode": {
    "name": "ipython",
    "version": 3
   },
   "file_extension": ".py",
   "mimetype": "text/x-python",
   "name": "python",
   "nbconvert_exporter": "python",
   "pygments_lexer": "ipython3",
   "version": "3.8.8"
  }
 },
 "nbformat": 4,
 "nbformat_minor": 5
}

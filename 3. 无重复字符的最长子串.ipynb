{
 "cells": [
  {
   "cell_type": "markdown",
   "id": "b4a93487",
   "metadata": {},
   "source": [
    "# 3. 无重复字符的最长子串"
   ]
  },
  {
   "cell_type": "markdown",
   "id": "bb290305",
   "metadata": {},
   "source": [
    "### 题目描述：给定一个字符串 s ，请你找出其中不含有重复字符的 最长子串 的长度。\n",
    "#### 示例1：\n",
    "#### 输入: s = \"abcabcbb\"\n",
    "#### 输出: 3 \n",
    "#### 解释: 因为无重复字符的最长子串是 \"abc\"，所以其长度为 3。\n",
    "#### 输入: s = \"bbbbb\"\n",
    "#### 输出: 1\n",
    "#### 解释: 因为无重复字符的最长子串是 \"b\"，所以其长度为 1。\n",
    "#### 示例 3:\n",
    "\n",
    "#### 输入: s = \"pwwkew\"\n",
    "#### 输出: 3\n",
    "#### 解释: 因为无重复字符的最长子串是 \"wke\"，所以其长度为 3。\n",
    "####      请注意，你的答案必须是 子串 的长度，\"pwke\" 是一个子序列，不是子串。"
   ]
  },
  {
   "cell_type": "markdown",
   "id": "55615035",
   "metadata": {},
   "source": [
    "### 思路：滑动窗口\n",
    "\n",
    "#### 什么是滑动窗口？\n",
    "\n",
    "#### 其实就是一个队列,比如例题中的 abcabcbb，进入这个队列（窗口）为 abc 满足题目要求，当再进入 a，队列变成了 abca，这时候不满足要求。所以，我们要移动这个队列！\n",
    "\n",
    "#### 如何移动？\n",
    "\n",
    "#### 我们只要把队列的左边的元素移出就行了，直到满足题目要求！\n",
    "\n",
    "#### 一直维持这样的队列，找出队列出现最长的长度时候，求出解！\n",
    "\n",
    "#### 时间复杂度：O(n)"
   ]
  },
  {
   "cell_type": "code",
   "execution_count": 1,
   "id": "8622ce18",
   "metadata": {},
   "outputs": [],
   "source": [
    "class Solution:\n",
    "    def lengthOfLongestSubstring(self, s: str) -> int:\n",
    "        if not s:return 0\n",
    "        left = 0\n",
    "        lookup = set()\n",
    "        n = len(s)\n",
    "        max_len = 0\n",
    "        cur_len = 0\n",
    "        for i in range(n):\n",
    "            cur_len += 1\n",
    "            while s[i] in lookup:\n",
    "                lookup.remove(s[left])\n",
    "                left += 1\n",
    "                cur_len -= 1\n",
    "            if cur_len > max_len:max_len = cur_len\n",
    "            lookup.add(s[i])\n",
    "        return max_len"
   ]
  },
  {
   "cell_type": "code",
   "execution_count": 2,
   "id": "ab7c62f8",
   "metadata": {},
   "outputs": [
    {
     "name": "stdout",
     "output_type": "stream",
     "text": [
      "abcabcbb\n"
     ]
    }
   ],
   "source": [
    "solution=Solution()\n",
    "result=solution.lengthOfLongestSubstring(input())"
   ]
  },
  {
   "cell_type": "code",
   "execution_count": 3,
   "id": "e64aeb92",
   "metadata": {},
   "outputs": [
    {
     "data": {
      "text/plain": [
       "3"
      ]
     },
     "execution_count": 3,
     "metadata": {},
     "output_type": "execute_result"
    }
   ],
   "source": [
    "result"
   ]
  }
 ],
 "metadata": {
  "kernelspec": {
   "display_name": "Python 3",
   "language": "python",
   "name": "python3"
  },
  "language_info": {
   "codemirror_mode": {
    "name": "ipython",
    "version": 3
   },
   "file_extension": ".py",
   "mimetype": "text/x-python",
   "name": "python",
   "nbconvert_exporter": "python",
   "pygments_lexer": "ipython3",
   "version": "3.8.8"
  }
 },
 "nbformat": 4,
 "nbformat_minor": 5
}

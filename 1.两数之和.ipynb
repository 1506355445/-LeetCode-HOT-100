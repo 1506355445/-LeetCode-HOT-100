{
 "cells": [
  {
   "cell_type": "markdown",
   "id": "457147d7",
   "metadata": {},
   "source": [
    "# 1.两数之和"
   ]
  },
  {
   "cell_type": "markdown",
   "id": "cd514537",
   "metadata": {},
   "source": [
    "### 问题描述：给定一个整数数组 nums 和一个整数目标值 target，请你在该数组中找出 和为目标值 target  的那 两个 整数，并返回它们的数组下标。\n",
    "\n",
    "### 你可以假设每种输入只会对应一个答案。但是，数组中同一个元素在答案里不能重复出现。\n",
    "\n",
    "### 你可以按任意顺序返回答案。\n"
   ]
  },
  {
   "cell_type": "markdown",
   "id": "ac2b9bb6",
   "metadata": {},
   "source": [
    "### 示例1：输入：nums = [2,7,11,15], target = 9\n",
    "### 输出：[0,1]\n",
    "### 解释：因为 nums[0] + nums[1] == 9 ，返回 [0, 1] 。\n",
    "\n",
    "\n",
    "### 示例2：输入：nums = [3,2,4], target = 6\n",
    "### 输出：[1,2]\n",
    "\n",
    "### 示例3：输入：nums = [3,3], target = 6\n",
    "### 输出：[0,1]"
   ]
  },
  {
   "cell_type": "markdown",
   "id": "67e92bdf",
   "metadata": {},
   "source": [
    "### 方法一：暴力枚举"
   ]
  },
  {
   "cell_type": "code",
   "execution_count": 3,
   "id": "d9b4eda8",
   "metadata": {},
   "outputs": [],
   "source": [
    "from typing import List"
   ]
  },
  {
   "cell_type": "code",
   "execution_count": 4,
   "id": "79ad92e8",
   "metadata": {},
   "outputs": [],
   "source": [
    "class Solution:\n",
    "    def twoSum(self, nums: List[int], target: int) -> List[int]:\n",
    "        n = len(nums)\n",
    "        for i in range(n):\n",
    "            for j in range(i + 1, n):\n",
    "                if nums[i] + nums[j] == target:\n",
    "                    return [i, j]\n",
    "        \n",
    "        return []"
   ]
  },
  {
   "cell_type": "code",
   "execution_count": 5,
   "id": "a8f9a8b3",
   "metadata": {},
   "outputs": [
    {
     "name": "stdout",
     "output_type": "stream",
     "text": [
      "[3,3]\n",
      "6\n",
      "[0, 1]\n"
     ]
    }
   ],
   "source": [
    "solution=Solution()\n",
    "nums=eval(input())\n",
    "target=eval(input())\n",
    "print(solution.twoSum(nums,target))"
   ]
  },
  {
   "cell_type": "markdown",
   "id": "7bfa5552",
   "metadata": {},
   "source": [
    "### 复杂度分析：时间复杂度：O(N^2)，其中 N 是数组中的元素数量。最坏情况下数组中任意两个数都要被匹配一次。\n",
    "### 空间复杂度：O(1)。"
   ]
  },
  {
   "cell_type": "markdown",
   "id": "9b6dfd60",
   "metadata": {},
   "source": [
    "### 方法二：哈希表\n",
    "### 算法思路：使用哈希表，可以将寻找 target - x 的时间复杂度降低到从O(N) 降低到 O(1)。这样我们创建一个哈希表，对于每一个 x，我们首先查询哈希表中是否存在 target - x，然后将 x 插入到哈希表中，即可保证不会让 x 和自己匹配。\n"
   ]
  },
  {
   "cell_type": "code",
   "execution_count": 8,
   "id": "efd576d1",
   "metadata": {},
   "outputs": [],
   "source": [
    "class Solution:#nums = [3,2,4], target = 6\n",
    "    def twoSum(self, nums: List[int], target: int) -> List[int]:\n",
    "        hashtable = dict()\n",
    "        for i, num in enumerate(nums):\n",
    "            if target - num in hashtable:\n",
    "                return [hashtable[target - num], i]\n",
    "            hashtable[nums[i]] = i\n",
    "            #print(hashtable)#{3: 0}#{3: 0, 2: 1}\n",
    "        return []"
   ]
  },
  {
   "cell_type": "markdown",
   "id": "a4f08494",
   "metadata": {},
   "source": [
    "### 复杂度分析\n",
    "\n",
    "### 时间复杂度：O(N)，其中 N 是数组中的元素数量。对于每一个元素 x，我们可以 O(1) 地寻找 target - x。\n",
    "\n",
    "### 空间复杂度：O(N)，其中 N 是数组中的元素数量。主要为哈希表的开销\n"
   ]
  },
  {
   "cell_type": "code",
   "execution_count": null,
   "id": "125405b5",
   "metadata": {},
   "outputs": [],
   "source": []
  }
 ],
 "metadata": {
  "kernelspec": {
   "display_name": "Python 3",
   "language": "python",
   "name": "python3"
  },
  "language_info": {
   "codemirror_mode": {
    "name": "ipython",
    "version": 3
   },
   "file_extension": ".py",
   "mimetype": "text/x-python",
   "name": "python",
   "nbconvert_exporter": "python",
   "pygments_lexer": "ipython3",
   "version": "3.8.8"
  }
 },
 "nbformat": 4,
 "nbformat_minor": 5
}
